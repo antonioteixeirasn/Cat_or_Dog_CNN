{
 "cells": [
  {
   "cell_type": "code",
   "execution_count": 1,
   "metadata": {},
   "outputs": [],
   "source": [
    "# Importando as bibliotecas\n",
    "\n",
    "import tensorflow as tf\n",
    "from keras.preprocessing.image import ImageDataGenerator"
   ]
  },
  {
   "cell_type": "code",
   "execution_count": 2,
   "metadata": {},
   "outputs": [
    {
     "name": "stdout",
     "output_type": "stream",
     "text": [
      "Found 8004 images belonging to 2 classes.\n"
     ]
    }
   ],
   "source": [
    "# Pré-processamento do training set\n",
    "\n",
    "train_datagen = ImageDataGenerator(rescale = 1./255,\n",
    "                                   shear_range = 0.2,\n",
    "                                   zoom_range = 0.2,\n",
    "                                   horizontal_flip = True)\n",
    "training_set = train_datagen.flow_from_directory('dataset/training_set',\n",
    "                                                 target_size = (64, 64),\n",
    "                                                 batch_size = 32,\n",
    "                                                 class_mode = 'binary')"
   ]
  },
  {
   "cell_type": "code",
   "execution_count": 3,
   "metadata": {},
   "outputs": [
    {
     "name": "stdout",
     "output_type": "stream",
     "text": [
      "Found 2014 images belonging to 2 classes.\n"
     ]
    }
   ],
   "source": [
    "# Pré-processamento do test set\n",
    "\n",
    "test_datagen = ImageDataGenerator(rescale = 1./255)\n",
    "test_set = test_datagen.flow_from_directory('dataset/test_set',\n",
    "                                            target_size = (64, 64),\n",
    "                                            batch_size = 32,\n",
    "                                            class_mode = 'binary')"
   ]
  },
  {
   "cell_type": "code",
   "execution_count": 4,
   "metadata": {},
   "outputs": [],
   "source": [
    "# Criando a CNN\n",
    "\n",
    "cnn = tf.keras.models.Sequential()\n",
    "\n",
    "# Adicionando a camada de convolução\n",
    "\n",
    "cnn.add(tf.keras.layers.Conv2D(filters=32, kernel_size=3, activation='relu', input_shape=[64, 64, 3]))\n",
    "\n",
    "# Adicionando a camada de pooling\n",
    "\n",
    "cnn.add(tf.keras.layers.Conv2D(filters=32, kernel_size=3, activation='relu'))\n",
    "cnn.add(tf.keras.layers.MaxPool2D(pool_size=2, strides=2))\n",
    "\n",
    "# Efetuando o flattening\n",
    "\n",
    "cnn.add(tf.keras.layers.Flatten())\n",
    "\n",
    "# Camada full conectada \n",
    "\n",
    "cnn.add(tf.keras.layers.Dense(units=128, activation='relu'))\n",
    "\n",
    "# Camada de saída\n",
    "\n",
    "cnn.add(tf.keras.layers.Dense(units=1, activation='sigmoid'))\n",
    "\n",
    "# Compilando a CNN\n",
    "\n",
    "cnn.compile(optimizer = 'adam', loss = 'binary_crossentropy', metrics = ['accuracy'])"
   ]
  },
  {
   "cell_type": "code",
   "execution_count": 5,
   "metadata": {},
   "outputs": [
    {
     "name": "stdout",
     "output_type": "stream",
     "text": [
      "Epoch 1/25\n",
      "251/251 [==============================] - 163s 638ms/step - loss: 0.7657 - accuracy: 0.5499 - val_loss: 0.6519 - val_accuracy: 0.6718\n",
      "Epoch 2/25\n",
      "251/251 [==============================] - 147s 585ms/step - loss: 0.6304 - accuracy: 0.6521 - val_loss: 0.5918 - val_accuracy: 0.6882\n",
      "Epoch 3/25\n",
      "251/251 [==============================] - 146s 582ms/step - loss: 0.5822 - accuracy: 0.6866 - val_loss: 0.5481 - val_accuracy: 0.7249\n",
      "Epoch 4/25\n",
      "251/251 [==============================] - 144s 572ms/step - loss: 0.5473 - accuracy: 0.7247 - val_loss: 0.5251 - val_accuracy: 0.7468\n",
      "Epoch 5/25\n",
      "251/251 [==============================] - 143s 569ms/step - loss: 0.5313 - accuracy: 0.7316 - val_loss: 0.5144 - val_accuracy: 0.7567\n",
      "Epoch 6/25\n",
      "251/251 [==============================] - 143s 571ms/step - loss: 0.4978 - accuracy: 0.7558 - val_loss: 0.5077 - val_accuracy: 0.7612\n",
      "Epoch 7/25\n",
      "251/251 [==============================] - 156s 622ms/step - loss: 0.4665 - accuracy: 0.7840 - val_loss: 0.5132 - val_accuracy: 0.7567\n",
      "Epoch 8/25\n",
      "251/251 [==============================] - 146s 583ms/step - loss: 0.4479 - accuracy: 0.7871 - val_loss: 0.4910 - val_accuracy: 0.7617\n",
      "Epoch 9/25\n",
      "251/251 [==============================] - 147s 586ms/step - loss: 0.4215 - accuracy: 0.8061 - val_loss: 0.5054 - val_accuracy: 0.7661\n",
      "Epoch 10/25\n",
      "251/251 [==============================] - 141s 560ms/step - loss: 0.4089 - accuracy: 0.8170 - val_loss: 0.4915 - val_accuracy: 0.7870\n",
      "Epoch 11/25\n",
      "251/251 [==============================] - 144s 575ms/step - loss: 0.3892 - accuracy: 0.8264 - val_loss: 0.5298 - val_accuracy: 0.7512\n",
      "Epoch 12/25\n",
      "251/251 [==============================] - 141s 562ms/step - loss: 0.3712 - accuracy: 0.8282 - val_loss: 0.5308 - val_accuracy: 0.7567\n",
      "Epoch 13/25\n",
      "251/251 [==============================] - 143s 571ms/step - loss: 0.3441 - accuracy: 0.8501 - val_loss: 0.5410 - val_accuracy: 0.7646\n",
      "Epoch 14/25\n",
      "251/251 [==============================] - 139s 552ms/step - loss: 0.3264 - accuracy: 0.8635 - val_loss: 0.5739 - val_accuracy: 0.7711\n",
      "Epoch 15/25\n",
      "251/251 [==============================] - 146s 579ms/step - loss: 0.3217 - accuracy: 0.8609 - val_loss: 0.6736 - val_accuracy: 0.7368\n",
      "Epoch 16/25\n",
      "251/251 [==============================] - 144s 572ms/step - loss: 0.2880 - accuracy: 0.8763 - val_loss: 0.5862 - val_accuracy: 0.7761\n",
      "Epoch 17/25\n",
      "251/251 [==============================] - 141s 560ms/step - loss: 0.2669 - accuracy: 0.8913 - val_loss: 0.6128 - val_accuracy: 0.7746\n",
      "Epoch 18/25\n",
      "251/251 [==============================] - 144s 574ms/step - loss: 0.2597 - accuracy: 0.8883 - val_loss: 0.5986 - val_accuracy: 0.7900\n",
      "Epoch 19/25\n",
      "251/251 [==============================] - 138s 550ms/step - loss: 0.2257 - accuracy: 0.9119 - val_loss: 0.5751 - val_accuracy: 0.7915\n",
      "Epoch 20/25\n",
      "251/251 [==============================] - 144s 572ms/step - loss: 0.2278 - accuracy: 0.9093 - val_loss: 0.6499 - val_accuracy: 0.7805\n",
      "Epoch 21/25\n",
      "251/251 [==============================] - 144s 572ms/step - loss: 0.2215 - accuracy: 0.9099 - val_loss: 0.6177 - val_accuracy: 0.7875\n",
      "Epoch 22/25\n",
      "251/251 [==============================] - 139s 555ms/step - loss: 0.1935 - accuracy: 0.9277 - val_loss: 0.6520 - val_accuracy: 0.7840\n",
      "Epoch 23/25\n",
      "251/251 [==============================] - 143s 568ms/step - loss: 0.1860 - accuracy: 0.9264 - val_loss: 0.6803 - val_accuracy: 0.7875\n",
      "Epoch 24/25\n",
      "251/251 [==============================] - 146s 581ms/step - loss: 0.1745 - accuracy: 0.9329 - val_loss: 0.6771 - val_accuracy: 0.7800\n",
      "Epoch 25/25\n",
      "251/251 [==============================] - 134s 533ms/step - loss: 0.1619 - accuracy: 0.9404 - val_loss: 0.7230 - val_accuracy: 0.7825\n"
     ]
    },
    {
     "data": {
      "text/plain": [
       "<tensorflow.python.keras.callbacks.History at 0x230812e7fa0>"
      ]
     },
     "execution_count": 5,
     "metadata": {},
     "output_type": "execute_result"
    }
   ],
   "source": [
    "# Treiando a CNN no training set\n",
    "\n",
    "cnn.fit(x = training_set, validation_data = test_set, epochs = 25)"
   ]
  },
  {
   "cell_type": "code",
   "execution_count": 6,
   "metadata": {},
   "outputs": [
    {
     "name": "stdout",
     "output_type": "stream",
     "text": [
      "dog\n"
     ]
    }
   ],
   "source": [
    "# Efetuando uma única previsão\n",
    "\n",
    "import numpy as np\n",
    "from keras.preprocessing import image\n",
    "test_image = image.load_img('dataset/single_prediction/cat_or_dog_1.jpg', target_size = (64, 64))\n",
    "test_image = image.img_to_array(test_image)\n",
    "test_image = np.expand_dims(test_image, axis = 0)\n",
    "result = cnn.predict(test_image)\n",
    "training_set.class_indices\n",
    "if result[0][0] == 1:\n",
    "  prediction = 'dog'\n",
    "else:\n",
    "  prediction = 'cat'\n",
    "\n",
    "print(prediction)"
   ]
  }
 ],
 "metadata": {
  "kernelspec": {
   "display_name": "Python 3",
   "language": "python",
   "name": "python3"
  },
  "language_info": {
   "codemirror_mode": {
    "name": "ipython",
    "version": 3
   },
   "file_extension": ".py",
   "mimetype": "text/x-python",
   "name": "python",
   "nbconvert_exporter": "python",
   "pygments_lexer": "ipython3",
   "version": "3.8.5"
  }
 },
 "nbformat": 4,
 "nbformat_minor": 4
}
